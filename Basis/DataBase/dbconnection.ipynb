{
 "cells": [
  {
   "cell_type": "markdown",
   "id": "f6b949a1-1b7f-4a0a-bfc3-b74189b62e2e",
   "metadata": {},
   "source": [
    "**This notebook tells how to access database using Python using user's db credentials**"
   ]
  },
  {
   "cell_type": "markdown",
   "id": "3bab7150-5195-4132-9353-65eb0a11cea1",
   "metadata": {},
   "source": [
    "**Import python library**"
   ]
  },
  {
   "cell_type": "code",
   "execution_count": 4,
   "id": "ed132a58-fce3-492f-84cd-9220b3c31dff",
   "metadata": {},
   "outputs": [
    {
     "name": "stdout",
     "output_type": "stream",
     "text": [
      "Note: you may need to restart the kernel to use updated packages.\n"
     ]
    },
    {
     "name": "stderr",
     "output_type": "stream",
     "text": [
      "WARNING: Skipping ibm-db as it is not installed.\n"
     ]
    }
   ],
   "source": [
    "pip uninstall ibm_db\n"
   ]
  },
  {
   "cell_type": "code",
   "execution_count": 1,
   "id": "c36717a2-d00e-4390-8dd3-10ab1c4a1b81",
   "metadata": {},
   "outputs": [
    {
     "name": "stdout",
     "output_type": "stream",
     "text": [
      "Collecting ibm_db\n",
      "  Downloading ibm_db-3.0.4.tar.gz (796 kB)\n",
      "Building wheels for collected packages: ibm-db\n",
      "  Building wheel for ibm-db (setup.py): started\n",
      "  Building wheel for ibm-db (setup.py): finished with status 'done'\n",
      "  Created wheel for ibm-db: filename=ibm_db-3.0.4-py3-none-any.whl size=27449740 sha256=bc06efd72690515f4d1eed13ab7dad627e32c6cf2fe4a0d94a81cca116e13a56\n",
      "  Stored in directory: C:\\Users\\DELL\\AppData\\Local\\Temp\\pip-ephem-wheel-cache-a43jyql5\\wheels\\d3\\b4\\35\\a36838dd28cd2a15e4df56e859803d0a0387069e0f951a013e\n",
      "Successfully built ibm-db\n",
      "Installing collected packages: ibm-db\n",
      "Successfully installed ibm-db-3.0.4\n",
      "Note: you may need to restart the kernel to use updated packages.\n"
     ]
    }
   ],
   "source": [
    "pip install --no-cache-dir ibm_db"
   ]
  },
  {
   "cell_type": "code",
   "execution_count": 48,
   "id": "fa1c85cd-a975-4f33-8521-9ca87a09c3fb",
   "metadata": {},
   "outputs": [],
   "source": [
    "import ibm_db"
   ]
  },
  {
   "cell_type": "code",
   "execution_count": 43,
   "id": "159eb6df-c999-4945-9630-f2efde587aa4",
   "metadata": {},
   "outputs": [
    {
     "ename": "AttributeError",
     "evalue": "module 'ibm_db_dbi' has no attribute 'connection'",
     "output_type": "error",
     "traceback": [
      "\u001b[1;31m---------------------------------------------------------------------------\u001b[0m",
      "\u001b[1;31mAttributeError\u001b[0m                            Traceback (most recent call last)",
      "\u001b[1;32m<ipython-input-43-49c79e38a31a>\u001b[0m in \u001b[0;36m<module>\u001b[1;34m\u001b[0m\n\u001b[1;32m----> 1\u001b[1;33m \u001b[0mpconn\u001b[0m \u001b[1;33m=\u001b[0m \u001b[0mibm_db_dbi\u001b[0m\u001b[1;33m.\u001b[0m\u001b[0mconnection\u001b[0m\u001b[1;33m(\u001b[0m\u001b[0mconn\u001b[0m\u001b[1;33m)\u001b[0m\u001b[1;33m\u001b[0m\u001b[1;33m\u001b[0m\u001b[0m\n\u001b[0m",
      "\u001b[1;31mAttributeError\u001b[0m: module 'ibm_db_dbi' has no attribute 'connection'"
     ]
    }
   ],
   "source": []
  },
  {
   "cell_type": "markdown",
   "id": "82bd1f3d-09de-49de-ac70-51b9198db84f",
   "metadata": {},
   "source": [
    "**Identify db credentials**"
   ]
  },
  {
   "cell_type": "code",
   "execution_count": 49,
   "id": "7e8529de-d4f7-47a5-8203-d2d7237c3840",
   "metadata": {},
   "outputs": [],
   "source": [
    "#Replace the placeholder values with your actual Db2 hostname, username, and password:\n",
    "dsn_hostname = \"dashdb-txn-sbox-yp-lon02-07.services.eu-gb.bluemix.net\" # e.g.: \"dashdb-txn-sbox-yp-dal09-04.services.dal.bluemix.net\"\n",
    "dsn_uid = \"glg94855\"        # e.g. \"abc12345\"\n",
    "dsn_pwd = \"66pxb9z2x-hk6c41\"      # e.g. \"7dBZ3wWt9XN6$o0J\"\n",
    "\n",
    "dsn_driver = \"{IBM DB2 ODBC DRIVER}\"\n",
    "dsn_database = \"BLUDB\"            # e.g. \"BLUDB\"\n",
    "dsn_port = \"50000\"                # e.g. \"50000\" \n",
    "dsn_protocol = \"TCPIP\"            # i.e. \"TCPIP\""
   ]
  },
  {
   "cell_type": "markdown",
   "id": "a32450ce-cac0-432f-9e92-b20be1100302",
   "metadata": {},
   "source": [
    "**Creating db database connections**"
   ]
  },
  {
   "cell_type": "code",
   "execution_count": 50,
   "id": "6d3fd57c-4683-4323-90a8-d78b56578324",
   "metadata": {},
   "outputs": [
    {
     "name": "stdout",
     "output_type": "stream",
     "text": [
      "DRIVER={IBM DB2 ODBC DRIVER};DATABASE=BLUDB;HOSTNAME=dashdb-txn-sbox-yp-lon02-07.services.eu-gb.bluemix.net;PORT=50000;PROTOCOL=TCPIP;UID=glg94855;PWD=66pxb9z2x-hk6c41;\n"
     ]
    }
   ],
   "source": [
    "#Create the dsn connection string\n",
    "dsn = (\n",
    "    \"DRIVER={0};\"\n",
    "    \"DATABASE={1};\"\n",
    "    \"HOSTNAME={2};\"\n",
    "    \"PORT={3};\"\n",
    "    \"PROTOCOL={4};\"\n",
    "    \"UID={5};\"\n",
    "    \"PWD={6};\").format(dsn_driver, dsn_database, dsn_hostname, dsn_port, dsn_protocol, dsn_uid, dsn_pwd)\n",
    "\n",
    "#print the connection string to check correct values are specified\n",
    "print(dsn)"
   ]
  },
  {
   "cell_type": "markdown",
   "id": "b416e544-e216-4085-8d4f-f5c6205911ed",
   "metadata": {},
   "source": [
    "\n",
    "Now establish the connection to the database."
   ]
  },
  {
   "cell_type": "code",
   "execution_count": 51,
   "id": "43a3dad2-5834-4671-882c-f93eef4567ce",
   "metadata": {},
   "outputs": [
    {
     "name": "stdout",
     "output_type": "stream",
     "text": [
      "Connected to database:  BLUDB as user:  glg94855 on host:  dashdb-txn-sbox-yp-lon02-07.services.eu-gb.bluemix.net\n"
     ]
    }
   ],
   "source": [
    "try:\n",
    "    conn = ibm_db.connect(dsn, \"\", \"\")\n",
    "    print (\"Connected to database: \", dsn_database, \"as user: \", dsn_uid, \"on host: \", dsn_hostname)\n",
    "\n",
    "except:\n",
    "    print (\"Unable to connect: \", ibm_db.conn_errormsg() )"
   ]
  },
  {
   "cell_type": "code",
   "execution_count": 52,
   "id": "05e089dd-1296-4600-8f9e-e523c8a553c0",
   "metadata": {},
   "outputs": [
    {
     "name": "stdout",
     "output_type": "stream",
     "text": [
      "DBMS_NAME:  DB2/LINUXX8664\n",
      "DBMS_VER:   11.01.0404\n",
      "DB_NAME:    BLUDB\n"
     ]
    }
   ],
   "source": [
    "#Retrieve Metadata for the Database Server\n",
    "server = ibm_db.server_info(conn)\n",
    "\n",
    "print (\"DBMS_NAME: \", server.DBMS_NAME)\n",
    "print (\"DBMS_VER:  \", server.DBMS_VER)\n",
    "print (\"DB_NAME:   \", server.DB_NAME)"
   ]
  },
  {
   "cell_type": "code",
   "execution_count": 53,
   "id": "b070d4eb-4a20-410c-bf27-c71524fb2cae",
   "metadata": {},
   "outputs": [
    {
     "name": "stdout",
     "output_type": "stream",
     "text": [
      "DRIVER_NAME:           DB2CLI.DLL\n",
      "DRIVER_VER:            11.05.0500\n",
      "DATA_SOURCE_NAME:      BLUDB\n",
      "DRIVER_ODBC_VER:       03.51\n",
      "ODBC_VER:              03.01.0000\n",
      "ODBC_SQL_CONFORMANCE:  EXTENDED\n",
      "APPL_CODEPAGE:         1252\n",
      "CONN_CODEPAGE:         1208\n"
     ]
    }
   ],
   "source": [
    "#Retrieve Metadata for the Database Client / Driver\n",
    "client = ibm_db.client_info(conn)\n",
    "\n",
    "print (\"DRIVER_NAME:          \", client.DRIVER_NAME) \n",
    "print (\"DRIVER_VER:           \", client.DRIVER_VER)\n",
    "print (\"DATA_SOURCE_NAME:     \", client.DATA_SOURCE_NAME)\n",
    "print (\"DRIVER_ODBC_VER:      \", client.DRIVER_ODBC_VER)\n",
    "print (\"ODBC_VER:             \", client.ODBC_VER)\n",
    "print (\"ODBC_SQL_CONFORMANCE: \", client.ODBC_SQL_CONFORMANCE)\n",
    "print (\"APPL_CODEPAGE:        \", client.APPL_CODEPAGE)\n",
    "print (\"CONN_CODEPAGE:        \", client.CONN_CODEPAGE)"
   ]
  },
  {
   "cell_type": "code",
   "execution_count": 54,
   "id": "69429ac7-0867-4f0e-aa68-0bafa0975c6c",
   "metadata": {},
   "outputs": [
    {
     "data": {
      "text/plain": [
       "True"
      ]
     },
     "execution_count": 54,
     "metadata": {},
     "output_type": "execute_result"
    }
   ],
   "source": [
    "ibm_db.close(conn)"
   ]
  },
  {
   "cell_type": "code",
   "execution_count": null,
   "id": "045d6af8-27dc-44de-9fd7-d1f0587ead6e",
   "metadata": {},
   "outputs": [],
   "source": []
  }
 ],
 "metadata": {
  "kernelspec": {
   "display_name": "Python 3",
   "language": "python",
   "name": "python3"
  },
  "language_info": {
   "codemirror_mode": {
    "name": "ipython",
    "version": 3
   },
   "file_extension": ".py",
   "mimetype": "text/x-python",
   "name": "python",
   "nbconvert_exporter": "python",
   "pygments_lexer": "ipython3",
   "version": "3.8.8"
  }
 },
 "nbformat": 4,
 "nbformat_minor": 5
}
